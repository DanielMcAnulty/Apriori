{
 "cells": [
  {
   "cell_type": "code",
   "execution_count": 1,
   "id": "0385b830-0ef1-4ad1-9bb6-452aa6b75fbf",
   "metadata": {},
   "outputs": [],
   "source": [
    "import pandas as pd\n",
    "import numpy as np\n",
    "from itertools import combinations, chain\n",
    "import csv"
   ]
  },
  {
   "cell_type": "markdown",
   "id": "63aa11e0-a684-4d15-9a78-a985beaf4027",
   "metadata": {},
   "source": [
    "## Rule Class"
   ]
  },
  {
   "cell_type": "code",
   "execution_count": 2,
   "id": "972773d1-9cf9-40dc-abed-cccb3be98d52",
   "metadata": {},
   "outputs": [],
   "source": [
    "class Rule:\n",
    "    def __init__(\n",
    "        self,\n",
    "        S: list,\n",
    "        X_S: list,\n",
    "        items: list,\n",
    "        sup,\n",
    "        conf, \n",
    "        lift\n",
    "    ):\n",
    "        self.S = S\n",
    "        self.X_S = X_S\n",
    "        self.items = items\n",
    "        self.sup = sup\n",
    "        self.conf = conf\n",
    "        self.lift = lift\n",
    "\n",
    "    \n",
    "    def __str__(self):\n",
    "        s1 = []\n",
    "        s2 = []\n",
    "        for it1 in self.S:\n",
    "            s1.append(self.items[it1])\n",
    "        for it2 in self.X_S:\n",
    "            s2.append(self.items[it2])\n",
    "        return \"Rule: {} -> {}   Conf:{}, Sup:{}, Lift:{}\".format(list(s1), list(s2), round(self.conf, 2), round(self.sup, 2),\n",
    "                                                                  round(self.lift, 2))\n",
    "    \n",
    "    def __lt__(self, other):\n",
    "        if len(self.S)+len(self.X_S) == len(other.S)+len(other.X_S):\n",
    "            if self.lift == other.lift:\n",
    "                return self.conf > other.conf\n",
    "            else:\n",
    "                return self.lift > other.lift\n",
    "        else:\n",
    "            return len(self.S)+len(self.X_S) < len(other.S)+len(other.X_S)"
   ]
  },
  {
   "cell_type": "markdown",
   "id": "77b0403c-155c-4c50-bbab-b29b7faf1fc2",
   "metadata": {},
   "source": [
    "## Get Transaction Matrix"
   ]
  },
  {
   "cell_type": "code",
   "execution_count": 3,
   "id": "5d49468b-e7ea-44a3-aa35-2b4b3892327a",
   "metadata": {},
   "outputs": [],
   "source": [
    "def get_transaction_matrix(filename):\n",
    "    \n",
    "    items=[]\n",
    "    \n",
    "    with open(filename, 'r', encoding=\"UTF-8\") as read_obj:\n",
    "\n",
    "        csv_reader = csv.reader(read_obj)\n",
    "        k=0\n",
    "        \n",
    "        for row in csv_reader:\n",
    "            row = list(filter(None, row))\n",
    "            for item in row:\n",
    "                if item not in items:\n",
    "                    items.append(item)\n",
    "            k+=1\n",
    "        read_obj.close()\n",
    "        \n",
    "    \n",
    "    a1 = np.zeros([k,len(items)], dtype=int) \n",
    "    with open(filename,'r', encoding=\"UTF-8\") as read_obj:\n",
    "    \n",
    "        csv_reader = csv.reader(read_obj)\n",
    "        k=0\n",
    "    \n",
    "        for row in csv_reader:\n",
    "            row = list(filter(None, row))\n",
    "            for item in row:\n",
    "                a1[k][items.index(item)] = 1\n",
    "            k += 1\n",
    "    \n",
    "        return a1, items"
   ]
  },
  {
   "cell_type": "markdown",
   "id": "e7906aad-0e88-494b-91d5-59c34440af14",
   "metadata": {},
   "source": [
    "## Get Count "
   ]
  },
  {
   "cell_type": "code",
   "execution_count": 4,
   "id": "50d8afdd-d69a-4f58-8696-95c8199824aa",
   "metadata": {},
   "outputs": [],
   "source": [
    "def get_count(itemset, t_matrix):\n",
    "    \n",
    "        for item in itemset:\n",
    "            \n",
    "            t_matrix = t_matrix[t_matrix[:,item]==1]\n",
    "            \n",
    "        return len(t_matrix)"
   ]
  },
  {
   "cell_type": "markdown",
   "id": "3b953198-0153-4cee-b13d-a7cc93b9d99a",
   "metadata": {},
   "source": [
    "## Size 1 Frequent Set Generation"
   ]
  },
  {
   "cell_type": "code",
   "execution_count": 5,
   "id": "3f44e743-0b9d-438c-8649-37f9eee2a173",
   "metadata": {},
   "outputs": [],
   "source": [
    "def get_1_frequent_sets(k_itemset, n, t_matrix, min_sup, counts):\n",
    "    \n",
    "    freq_set = set()\n",
    "    \n",
    "    for x in range(len(k_itemset)):\n",
    "        \n",
    "        x = frozenset([x])\n",
    "        c = get_count(x, t_matrix)\n",
    "        \n",
    "        if c/n >= min_sup:\n",
    "            \n",
    "            counts[x] = c\n",
    "            freq_set.add(x)\n",
    "    \n",
    "    return freq_set, counts"
   ]
  },
  {
   "cell_type": "markdown",
   "id": "c9948fd2-0f56-4b5c-8dff-2f563af7415a",
   "metadata": {},
   "source": [
    "## Get Frequent Sets"
   ]
  },
  {
   "cell_type": "code",
   "execution_count": 6,
   "id": "9962fece-9182-4d52-98b6-dfb393d283b0",
   "metadata": {},
   "outputs": [],
   "source": [
    "def get_frequent_sets(k_itemset, n, k, min_sup, t_matrix, counts):\n",
    "    \n",
    "    item_set = set()\n",
    "    \n",
    "    for its1 in k_itemset:\n",
    "        for its2 in k_itemset:\n",
    "            if len(its1.union(its2)) == k:\n",
    "                item_set.add(frozenset(its1.union(its2)))\n",
    "    \n",
    "    freq_set = set()\n",
    "    \n",
    "    for its in item_set:\n",
    "        \n",
    "        c = get_count(its, t_matrix)\n",
    "        \n",
    "        if (c)/n >= min_sup:\n",
    "            \n",
    "            counts[its] = c\n",
    "            freq_set.add(its)\n",
    "    \n",
    "    return freq_set, counts"
   ]
  },
  {
   "cell_type": "markdown",
   "id": "dc07a9f9-318c-4715-bda8-ab189e2bc178",
   "metadata": {},
   "source": [
    "## Get Rules "
   ]
  },
  {
   "cell_type": "code",
   "execution_count": 7,
   "id": "09682e60-82a2-4037-b824-716d932e1470",
   "metadata": {},
   "outputs": [],
   "source": [
    "def get_rules(k_itemset, n, t_matrix, items, index, min_sup, min_conf, min_lift, counts):\n",
    "    \n",
    "    rules=[]\n",
    "\n",
    "    for its in k_itemset:\n",
    "        \n",
    "        count = counts[its]\n",
    "        r = list(chain.from_iterable(combinations(its, r) for r in range(1, len(its)+1)))\n",
    "        r.pop()\n",
    "  \n",
    "        for s in r:\n",
    "                    \n",
    "            S = set(s)\n",
    "            X = set(its)\n",
    "            X_S = set(X-S)\n",
    "\n",
    "            support_x_s = counts[frozenset(X_S)]\n",
    "            confidence = count/(counts[frozenset(S)])\n",
    "            \n",
    "            if confidence >= min_conf:\n",
    "\n",
    "                lift = confidence/ (support_x_s/n)\n",
    "                \n",
    "                if lift >= min_lift:\n",
    "                    \n",
    "                    rs = Rule(list(S), list(X_S), items, support_x_s, confidence, lift)\n",
    "                    rules.append(rs)\n",
    "    \n",
    "    return rules"
   ]
  },
  {
   "cell_type": "markdown",
   "id": "f9499d2e-c8a1-4b89-83bb-ad0cb4473906",
   "metadata": {},
   "source": [
    "## Main function"
   ]
  },
  {
   "cell_type": "code",
   "execution_count": 8,
   "id": "18e88bbc-a6e4-467e-8bc7-f34f2dc1efa9",
   "metadata": {},
   "outputs": [],
   "source": [
    "def main(filename, min_sup, min_conf, min_lift):\n",
    "    \n",
    "    t_matrix, items = get_transaction_matrix(filename)\n",
    "    \n",
    "    index = np.array([k for k in range(len(items))])\n",
    "    k_itemset = index.copy()\n",
    "    n = len(t_matrix)\n",
    "    counts = dict()\n",
    "    rules = []\n",
    "    \n",
    "    k_itemset, counts = get_1_frequent_sets(k_itemset, n, t_matrix, min_sup, counts)\n",
    "    \n",
    "    k=2\n",
    "    \n",
    "    while len(k_itemset) != 0:\n",
    "        \n",
    "        k_itemset, counts = get_frequent_sets(k_itemset, n, k, min_sup, t_matrix, counts)\n",
    "        r = get_rules(k_itemset, n, t_matrix, items, index, min_sup, min_conf, min_lift, counts)\n",
    "        k += 1\n",
    "        rules = rules + r\n",
    "    \n",
    "    rules.sort()\n",
    "    \n",
    "    for rule in rules:\n",
    "        \n",
    "        print(rule)"
   ]
  },
  {
   "cell_type": "markdown",
   "id": "d75af56c-4428-45cb-9c53-e4fd56703951",
   "metadata": {},
   "source": [
    "## Caller"
   ]
  },
  {
   "cell_type": "code",
   "execution_count": 9,
   "id": "42532635-7883-487b-b19e-fa1f57f754e1",
   "metadata": {},
   "outputs": [
    {
     "name": "stdout",
     "output_type": "stream",
     "text": [
      "Rule: ['total = high'] -> ['bread and cake']   Conf:0.84, Sup:3330, Lift:1.17\n",
      "Rule: ['margarine'] -> ['bread and cake']   Conf:0.8, Sup:3330, Lift:1.11\n",
      "Rule: ['margarine', 'fruit'] -> ['bread and cake']   Conf:0.85, Sup:3330, Lift:1.18\n",
      "Rule: ['biscuits', 'vegetables'] -> ['bread and cake']   Conf:0.84, Sup:3330, Lift:1.17\n",
      "Rule: ['milk-cream', 'tissues-paper prd'] -> ['bread and cake']   Conf:0.84, Sup:3330, Lift:1.17\n",
      "Rule: ['milk-cream', 'biscuits'] -> ['bread and cake']   Conf:0.84, Sup:3330, Lift:1.17\n",
      "Rule: ['biscuits', 'fruit'] -> ['bread and cake']   Conf:0.84, Sup:3330, Lift:1.17\n",
      "Rule: ['milk-cream', 'margarine'] -> ['bread and cake']   Conf:0.84, Sup:3330, Lift:1.17\n",
      "Rule: ['margarine', 'biscuits'] -> ['bread and cake']   Conf:0.84, Sup:3330, Lift:1.16\n",
      "Rule: ['frozen foods', 'biscuits'] -> ['bread and cake']   Conf:0.83, Sup:3330, Lift:1.16\n",
      "Rule: ['margarine', 'vegetables'] -> ['bread and cake']   Conf:0.83, Sup:3330, Lift:1.16\n",
      "Rule: ['biscuits', 'tissues-paper prd'] -> ['bread and cake']   Conf:0.83, Sup:3330, Lift:1.16\n",
      "Rule: ['frozen foods', 'fruit'] -> ['bread and cake']   Conf:0.83, Sup:3330, Lift:1.16\n",
      "Rule: ['milk-cream', 'frozen foods'] -> ['bread and cake']   Conf:0.83, Sup:3330, Lift:1.15\n",
      "Rule: ['party snack foods', 'fruit'] -> ['bread and cake']   Conf:0.83, Sup:3330, Lift:1.15\n",
      "Rule: ['tissues-paper prd', 'vegetables'] -> ['bread and cake']   Conf:0.83, Sup:3330, Lift:1.15\n",
      "Rule: ['milk-cream', 'baking needs'] -> ['bread and cake']   Conf:0.83, Sup:3330, Lift:1.15\n",
      "Rule: ['fruit', 'tissues-paper prd'] -> ['bread and cake']   Conf:0.83, Sup:3330, Lift:1.15\n",
      "Rule: ['milk-cream', 'party snack foods'] -> ['bread and cake']   Conf:0.83, Sup:3330, Lift:1.15\n",
      "Rule: ['milk-cream', 'fruit'] -> ['bread and cake']   Conf:0.83, Sup:3330, Lift:1.15\n",
      "Rule: ['baking needs', 'margarine'] -> ['bread and cake']   Conf:0.83, Sup:3330, Lift:1.15\n",
      "Rule: ['baking needs', 'biscuits'] -> ['bread and cake']   Conf:0.83, Sup:3330, Lift:1.15\n",
      "Rule: ['frozen foods', 'tissues-paper prd'] -> ['bread and cake']   Conf:0.82, Sup:3330, Lift:1.14\n",
      "Rule: ['baking needs', 'fruit'] -> ['bread and cake']   Conf:0.82, Sup:3330, Lift:1.14\n",
      "Rule: ['sauces-gravy-pkle', 'fruit'] -> ['bread and cake']   Conf:0.82, Sup:3330, Lift:1.14\n",
      "Rule: ['baking needs', 'tissues-paper prd'] -> ['bread and cake']   Conf:0.82, Sup:3330, Lift:1.14\n",
      "Rule: ['frozen foods', 'vegetables'] -> ['bread and cake']   Conf:0.82, Sup:3330, Lift:1.14\n",
      "Rule: ['biscuits', 'party snack foods'] -> ['bread and cake']   Conf:0.82, Sup:3330, Lift:1.14\n",
      "Rule: ['baking needs', 'party snack foods'] -> ['bread and cake']   Conf:0.82, Sup:3330, Lift:1.14\n",
      "Rule: ['milk-cream', 'vegetables'] -> ['bread and cake']   Conf:0.82, Sup:3330, Lift:1.14\n",
      "Rule: ['sauces-gravy-pkle', 'milk-cream'] -> ['bread and cake']   Conf:0.82, Sup:3330, Lift:1.14\n",
      "Rule: ['party snack foods', 'vegetables'] -> ['bread and cake']   Conf:0.82, Sup:3330, Lift:1.13\n",
      "Rule: ['juice-sat-cord-ms', 'biscuits'] -> ['bread and cake']   Conf:0.82, Sup:3330, Lift:1.13\n",
      "Rule: ['margarine', 'frozen foods'] -> ['bread and cake']   Conf:0.82, Sup:3330, Lift:1.13\n",
      "Rule: ['milk-cream', 'juice-sat-cord-ms'] -> ['bread and cake']   Conf:0.81, Sup:3330, Lift:1.13\n",
      "Rule: ['sauces-gravy-pkle', 'vegetables'] -> ['bread and cake']   Conf:0.81, Sup:3330, Lift:1.13\n",
      "Rule: ['baking needs', 'vegetables'] -> ['bread and cake']   Conf:0.81, Sup:3330, Lift:1.13\n",
      "Rule: ['fruit', 'vegetables'] -> ['bread and cake']   Conf:0.81, Sup:3330, Lift:1.13\n",
      "Rule: ['juice-sat-cord-ms', 'fruit'] -> ['bread and cake']   Conf:0.81, Sup:3330, Lift:1.13\n",
      "Rule: ['frozen foods', 'party snack foods'] -> ['bread and cake']   Conf:0.81, Sup:3330, Lift:1.13\n",
      "Rule: ['sauces-gravy-pkle', 'frozen foods'] -> ['bread and cake']   Conf:0.81, Sup:3330, Lift:1.13\n",
      "Rule: ['baking needs', 'frozen foods'] -> ['bread and cake']   Conf:0.81, Sup:3330, Lift:1.12\n",
      "Rule: ['sauces-gravy-pkle', 'baking needs'] -> ['bread and cake']   Conf:0.8, Sup:3330, Lift:1.12\n",
      "Rule: ['bread and cake', 'biscuits', 'vegetables'] -> ['fruit']   Conf:0.82, Sup:2962, Lift:1.28\n",
      "Rule: ['bread and cake', 'baking needs', 'fruit'] -> ['vegetables']   Conf:0.8, Sup:2961, Lift:1.25\n",
      "Rule: ['bread and cake', 'frozen foods', 'fruit'] -> ['vegetables']   Conf:0.8, Sup:2961, Lift:1.25\n",
      "Rule: ['bread and cake', 'frozen foods', 'vegetables'] -> ['fruit']   Conf:0.8, Sup:2962, Lift:1.25\n",
      "Rule: ['biscuits', 'fruit', 'vegetables'] -> ['bread and cake']   Conf:0.87, Sup:3330, Lift:1.2\n",
      "Rule: ['frozen foods', 'fruit', 'vegetables'] -> ['bread and cake']   Conf:0.86, Sup:3330, Lift:1.19\n",
      "Rule: ['baking needs', 'milk-cream', 'fruit'] -> ['bread and cake']   Conf:0.85, Sup:3330, Lift:1.18\n",
      "Rule: ['baking needs', 'fruit', 'vegetables'] -> ['bread and cake']   Conf:0.84, Sup:3330, Lift:1.17\n",
      "Rule: ['milk-cream', 'baking needs', 'vegetables'] -> ['bread and cake']   Conf:0.84, Sup:3330, Lift:1.17\n",
      "Rule: ['milk-cream', 'fruit', 'vegetables'] -> ['bread and cake']   Conf:0.83, Sup:3330, Lift:1.16\n"
     ]
    }
   ],
   "source": [
    "filename = \"supermarket.csv\"\n",
    "min_sup = 0.25\n",
    "min_conf = 0.8\n",
    "min_lift = 1\n",
    "\n",
    "main(filename, min_sup, min_conf, min_lift)"
   ]
  },
  {
   "cell_type": "code",
   "execution_count": null,
   "id": "30cea925-6004-4482-ac63-b5ba8634dfb7",
   "metadata": {},
   "outputs": [],
   "source": []
  }
 ],
 "metadata": {
  "kernelspec": {
   "display_name": "Python 3 (ipykernel)",
   "language": "python",
   "name": "python3"
  },
  "language_info": {
   "codemirror_mode": {
    "name": "ipython",
    "version": 3
   },
   "file_extension": ".py",
   "mimetype": "text/x-python",
   "name": "python",
   "nbconvert_exporter": "python",
   "pygments_lexer": "ipython3",
   "version": "3.10.7"
  }
 },
 "nbformat": 4,
 "nbformat_minor": 5
}
